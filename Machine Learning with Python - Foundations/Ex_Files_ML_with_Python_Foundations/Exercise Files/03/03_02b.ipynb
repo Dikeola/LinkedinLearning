{
 "cells": [
  {
   "cell_type": "markdown",
   "metadata": {},
   "source": [
    "# How to Summarize Data in Python"
   ]
  },
  {
   "cell_type": "markdown",
   "metadata": {},
   "source": [
    "## Learning Objectives\n",
    "When exploring data, one of the most important things we can do is summarize it so we can better understand it. A common way to summarize data is by computing aggregations such as mean, median, maximum and minimum. These aggregations or statistical measures (as they are commonly referred to) describe the general and specific characteristics of our data. This is why these types of aggregations are sometimes referred to as **descriptive statistics** or **summary statistics**. The pandas DataFrame provides several methods for computing descriptive statistics. By the end of this tutorial, you will have learned:\n",
    "\n",
    "+ how to describe a DataFrame\n",
    "+ how to get simple aggregations\n",
    "+ how to get group-level aggregations"
   ]
  },
  {
   "cell_type": "markdown",
   "metadata": {},
   "source": [
    "## How to Describe a DataFrame"
   ]
  },
  {
   "cell_type": "code",
   "execution_count": 1,
   "metadata": {},
   "outputs": [],
   "source": [
    "import pandas as pd\n",
    "washers = pd.read_csv(\"washers.csv\")\n"
   ]
  },
  {
   "cell_type": "code",
   "execution_count": 4,
   "metadata": {},
   "outputs": [
    {
     "name": "stdout",
     "output_type": "stream",
     "text": [
      "<class 'pandas.core.frame.DataFrame'>\n",
      "RangeIndex: 261 entries, 0 to 260\n",
      "Data columns (total 18 columns):\n",
      " #   Column         Non-Null Count  Dtype  \n",
      "---  ------         --------------  -----  \n",
      " 0   ID             261 non-null    int64  \n",
      " 1   BrandName      261 non-null    object \n",
      " 2   ModelNumber    261 non-null    object \n",
      " 3   UPC            261 non-null    object \n",
      " 4   Configuration  261 non-null    object \n",
      " 5   Features       202 non-null    object \n",
      " 6   Market         261 non-null    object \n",
      " 7   Volume         261 non-null    float64\n",
      " 8   IMEF           261 non-null    float64\n",
      " 9   MinimumIMEF    261 non-null    float64\n",
      " 10  EnergyUse      261 non-null    int64  \n",
      " 11  IWF            261 non-null    float64\n",
      " 12  MaximumIWF     261 non-null    float64\n",
      " 13  WaterUse       261 non-null    int64  \n",
      " 14  DateAvailable  261 non-null    object \n",
      " 15  DateCertified  261 non-null    object \n",
      " 16  Countries      261 non-null    object \n",
      " 17  MostEfficient  261 non-null    object \n",
      "dtypes: float64(5), int64(3), object(10)\n",
      "memory usage: 36.8+ KB\n"
     ]
    }
   ],
   "source": [
    "washers.info()"
   ]
  },
  {
   "cell_type": "markdown",
   "metadata": {},
   "source": [
    "## How to get Simple Aggregations\n",
    "The `describe()` method returns a statistical summary for each of the columns in a DataFrame. It's important to note that the descriptive statistics returned by the `describe()` method depends on the data type of a column. For non-numeric columns, the descriptive statistics returned by the method are as follows:\n",
    "\n",
    "|Name      |   Description  |\n",
    "|-----------------|---------------------|\n",
    "| `count`         | Number of non-missing values                       |\n",
    "| `unique`       | Number of unique non-missing values                   |\n",
    "| `top`       | Most commonly occuring value   |\n",
    "| `freq`        | Frequency of the most commonly occuring value                   |\n"
   ]
  },
  {
   "cell_type": "code",
   "execution_count": 6,
   "metadata": {},
   "outputs": [
    {
     "data": {
      "text/html": [
       "<div>\n",
       "<style scoped>\n",
       "    .dataframe tbody tr th:only-of-type {\n",
       "        vertical-align: middle;\n",
       "    }\n",
       "\n",
       "    .dataframe tbody tr th {\n",
       "        vertical-align: top;\n",
       "    }\n",
       "\n",
       "    .dataframe thead th {\n",
       "        text-align: right;\n",
       "    }\n",
       "</style>\n",
       "<table border=\"1\" class=\"dataframe\">\n",
       "  <thead>\n",
       "    <tr style=\"text-align: right;\">\n",
       "      <th></th>\n",
       "      <th>ID</th>\n",
       "      <th>Volume</th>\n",
       "      <th>IMEF</th>\n",
       "      <th>MinimumIMEF</th>\n",
       "      <th>EnergyUse</th>\n",
       "      <th>IWF</th>\n",
       "      <th>MaximumIWF</th>\n",
       "      <th>WaterUse</th>\n",
       "    </tr>\n",
       "  </thead>\n",
       "  <tbody>\n",
       "    <tr>\n",
       "      <th>count</th>\n",
       "      <td>2.610000e+02</td>\n",
       "      <td>261.000000</td>\n",
       "      <td>261.000000</td>\n",
       "      <td>261.000000</td>\n",
       "      <td>261.000000</td>\n",
       "      <td>261.000000</td>\n",
       "      <td>261.000000</td>\n",
       "      <td>261.000000</td>\n",
       "    </tr>\n",
       "    <tr>\n",
       "      <th>mean</th>\n",
       "      <td>2.320802e+06</td>\n",
       "      <td>4.374713</td>\n",
       "      <td>2.456820</td>\n",
       "      <td>1.591341</td>\n",
       "      <td>129.214559</td>\n",
       "      <td>3.598851</td>\n",
       "      <td>6.372797</td>\n",
       "      <td>4632.727969</td>\n",
       "    </tr>\n",
       "    <tr>\n",
       "      <th>std</th>\n",
       "      <td>1.574793e+04</td>\n",
       "      <td>0.965866</td>\n",
       "      <td>0.380599</td>\n",
       "      <td>0.274261</td>\n",
       "      <td>43.850620</td>\n",
       "      <td>0.538265</td>\n",
       "      <td>1.845032</td>\n",
       "      <td>1292.693059</td>\n",
       "    </tr>\n",
       "    <tr>\n",
       "      <th>min</th>\n",
       "      <td>2.300602e+06</td>\n",
       "      <td>1.900000</td>\n",
       "      <td>2.060000</td>\n",
       "      <td>1.290000</td>\n",
       "      <td>60.000000</td>\n",
       "      <td>2.700000</td>\n",
       "      <td>4.700000</td>\n",
       "      <td>1728.000000</td>\n",
       "    </tr>\n",
       "    <tr>\n",
       "      <th>25%</th>\n",
       "      <td>2.310408e+06</td>\n",
       "      <td>4.300000</td>\n",
       "      <td>2.060000</td>\n",
       "      <td>1.290000</td>\n",
       "      <td>99.000000</td>\n",
       "      <td>3.200000</td>\n",
       "      <td>4.700000</td>\n",
       "      <td>3852.000000</td>\n",
       "    </tr>\n",
       "    <tr>\n",
       "      <th>50%</th>\n",
       "      <td>2.310499e+06</td>\n",
       "      <td>4.500000</td>\n",
       "      <td>2.380000</td>\n",
       "      <td>1.840000</td>\n",
       "      <td>120.000000</td>\n",
       "      <td>3.600000</td>\n",
       "      <td>4.700000</td>\n",
       "      <td>4429.000000</td>\n",
       "    </tr>\n",
       "    <tr>\n",
       "      <th>75%</th>\n",
       "      <td>2.332089e+06</td>\n",
       "      <td>5.000000</td>\n",
       "      <td>2.920000</td>\n",
       "      <td>1.840000</td>\n",
       "      <td>150.000000</td>\n",
       "      <td>4.300000</td>\n",
       "      <td>8.400000</td>\n",
       "      <td>5632.000000</td>\n",
       "    </tr>\n",
       "    <tr>\n",
       "      <th>max</th>\n",
       "      <td>2.359624e+06</td>\n",
       "      <td>6.200000</td>\n",
       "      <td>3.100000</td>\n",
       "      <td>1.840000</td>\n",
       "      <td>311.000000</td>\n",
       "      <td>4.300000</td>\n",
       "      <td>8.400000</td>\n",
       "      <td>7827.000000</td>\n",
       "    </tr>\n",
       "  </tbody>\n",
       "</table>\n",
       "</div>"
      ],
      "text/plain": [
       "                 ID      Volume        IMEF  MinimumIMEF   EnergyUse  \\\n",
       "count  2.610000e+02  261.000000  261.000000   261.000000  261.000000   \n",
       "mean   2.320802e+06    4.374713    2.456820     1.591341  129.214559   \n",
       "std    1.574793e+04    0.965866    0.380599     0.274261   43.850620   \n",
       "min    2.300602e+06    1.900000    2.060000     1.290000   60.000000   \n",
       "25%    2.310408e+06    4.300000    2.060000     1.290000   99.000000   \n",
       "50%    2.310499e+06    4.500000    2.380000     1.840000  120.000000   \n",
       "75%    2.332089e+06    5.000000    2.920000     1.840000  150.000000   \n",
       "max    2.359624e+06    6.200000    3.100000     1.840000  311.000000   \n",
       "\n",
       "              IWF  MaximumIWF     WaterUse  \n",
       "count  261.000000  261.000000   261.000000  \n",
       "mean     3.598851    6.372797  4632.727969  \n",
       "std      0.538265    1.845032  1292.693059  \n",
       "min      2.700000    4.700000  1728.000000  \n",
       "25%      3.200000    4.700000  3852.000000  \n",
       "50%      3.600000    4.700000  4429.000000  \n",
       "75%      4.300000    8.400000  5632.000000  \n",
       "max      4.300000    8.400000  7827.000000  "
      ]
     },
     "execution_count": 6,
     "metadata": {},
     "output_type": "execute_result"
    }
   ],
   "source": [
    "washers.describe()"
   ]
  },
  {
   "cell_type": "markdown",
   "metadata": {},
   "source": [
    "For numeric columns, the `describe()` method returns the following descriptive statistics:\n",
    "\n",
    "|Name      |   Description  |\n",
    "|-----------------|---------------------|\n",
    "| `count`         | Number of non-missing values                       |\n",
    "| `mean`       | Average of the non-missing values                   |\n",
    "| `std`       | Standard deviation of the values   |\n",
    "| `min`        | Smallest value                  |\n",
    "| `25%`         | 25th percentile                       |\n",
    "| `50%`       | 50th percentile (same as the median)                   |\n",
    "| `75%`       | 75th percentile   |\n",
    "| `max`        | Largest value                   |\n"
   ]
  },
  {
   "cell_type": "code",
   "execution_count": 8,
   "metadata": {},
   "outputs": [
    {
     "data": {
      "text/plain": [
       "<Axes: xlabel='BrandName'>"
      ]
     },
     "execution_count": 8,
     "metadata": {},
     "output_type": "execute_result"
    },
    {
     "data": {
      "image/png": "[encoded data removed]",
      "text/plain": [
       "<Figure size 640x480 with 1 Axes>"
      ]
     },
     "metadata": {},
     "output_type": "display_data"
    }
   ],
   "source": [
    "washers.groupby(['BrandName','Countries'])['Volume'].mean().unstack().plot.bar(stacked=True)"
   ]
  },
  {
   "cell_type": "code",
   "execution_count": null,
   "metadata": {},
   "outputs": [],
   "source": [
    "washers[['BrandName']].value_counts()"
   ]
  },
  {
   "cell_type": "markdown",
   "metadata": {},
   "source": [
    "## How to get Group-level Aggregations"
   ]
  },
  {
   "cell_type": "code",
   "execution_count": 10,
   "metadata": {},
   "outputs": [
    {
     "data": {
      "text/html": [
       "<div>\n",
       "<style scoped>\n",
       "    .dataframe tbody tr th:only-of-type {\n",
       "        vertical-align: middle;\n",
       "    }\n",
       "\n",
       "    .dataframe tbody tr th {\n",
       "        vertical-align: top;\n",
       "    }\n",
       "\n",
       "    .dataframe thead th {\n",
       "        text-align: right;\n",
       "    }\n",
       "</style>\n",
       "<table border=\"1\" class=\"dataframe\">\n",
       "  <thead>\n",
       "    <tr style=\"text-align: right;\">\n",
       "      <th></th>\n",
       "      <th>Volume</th>\n",
       "    </tr>\n",
       "    <tr>\n",
       "      <th>BrandName</th>\n",
       "      <th></th>\n",
       "    </tr>\n",
       "  </thead>\n",
       "  <tbody>\n",
       "    <tr>\n",
       "      <th>Amana</th>\n",
       "      <td>4.250000</td>\n",
       "    </tr>\n",
       "    <tr>\n",
       "      <th>Asko</th>\n",
       "      <td>2.525000</td>\n",
       "    </tr>\n",
       "    <tr>\n",
       "      <th>Beko</th>\n",
       "      <td>2.133333</td>\n",
       "    </tr>\n",
       "    <tr>\n",
       "      <th>Blomberg</th>\n",
       "      <td>2.300000</td>\n",
       "    </tr>\n",
       "    <tr>\n",
       "      <th>Bosch</th>\n",
       "      <td>2.200000</td>\n",
       "    </tr>\n",
       "    <tr>\n",
       "      <th>Crosley</th>\n",
       "      <td>4.400000</td>\n",
       "    </tr>\n",
       "    <tr>\n",
       "      <th>Electrolux</th>\n",
       "      <td>3.785714</td>\n",
       "    </tr>\n",
       "    <tr>\n",
       "      <th>Fisher &amp; Paykel</th>\n",
       "      <td>2.400000</td>\n",
       "    </tr>\n",
       "    <tr>\n",
       "      <th>GE</th>\n",
       "      <td>4.328571</td>\n",
       "    </tr>\n",
       "    <tr>\n",
       "      <th>GE Adora</th>\n",
       "      <td>4.200000</td>\n",
       "    </tr>\n",
       "    <tr>\n",
       "      <th>Gaggenau</th>\n",
       "      <td>2.200000</td>\n",
       "    </tr>\n",
       "    <tr>\n",
       "      <th>Haier</th>\n",
       "      <td>2.400000</td>\n",
       "    </tr>\n",
       "    <tr>\n",
       "      <th>Inglis</th>\n",
       "      <td>4.300000</td>\n",
       "    </tr>\n",
       "    <tr>\n",
       "      <th>Insignia</th>\n",
       "      <td>4.800000</td>\n",
       "    </tr>\n",
       "    <tr>\n",
       "      <th>Kenmore</th>\n",
       "      <td>4.796667</td>\n",
       "    </tr>\n",
       "    <tr>\n",
       "      <th>LG</th>\n",
       "      <td>4.596000</td>\n",
       "    </tr>\n",
       "    <tr>\n",
       "      <th>Magic Chef</th>\n",
       "      <td>2.700000</td>\n",
       "    </tr>\n",
       "    <tr>\n",
       "      <th>Maytag</th>\n",
       "      <td>4.988889</td>\n",
       "    </tr>\n",
       "    <tr>\n",
       "      <th>Midea</th>\n",
       "      <td>5.200000</td>\n",
       "    </tr>\n",
       "    <tr>\n",
       "      <th>Miele</th>\n",
       "      <td>2.300000</td>\n",
       "    </tr>\n",
       "    <tr>\n",
       "      <th>Samsung</th>\n",
       "      <td>4.729787</td>\n",
       "    </tr>\n",
       "    <tr>\n",
       "      <th>Whirlpool</th>\n",
       "      <td>4.453846</td>\n",
       "    </tr>\n",
       "  </tbody>\n",
       "</table>\n",
       "</div>"
      ],
      "text/plain": [
       "                   Volume\n",
       "BrandName                \n",
       "Amana            4.250000\n",
       "Asko             2.525000\n",
       "Beko             2.133333\n",
       "Blomberg         2.300000\n",
       "Bosch            2.200000\n",
       "Crosley          4.400000\n",
       "Electrolux       3.785714\n",
       "Fisher & Paykel  2.400000\n",
       "GE               4.328571\n",
       "GE Adora         4.200000\n",
       "Gaggenau         2.200000\n",
       "Haier            2.400000\n",
       "Inglis           4.300000\n",
       "Insignia         4.800000\n",
       "Kenmore          4.796667\n",
       "LG               4.596000\n",
       "Magic Chef       2.700000\n",
       "Maytag           4.988889\n",
       "Midea            5.200000\n",
       "Miele            2.300000\n",
       "Samsung          4.729787\n",
       "Whirlpool        4.453846"
      ]
     },
     "execution_count": 10,
     "metadata": {},
     "output_type": "execute_result"
    }
   ],
   "source": [
    "washers.groupby('BrandName')[['Volume']].mean()"
   ]
  },
  {
   "cell_type": "code",
   "execution_count": 30,
   "metadata": {},
   "outputs": [
    {
     "data": {
      "text/plain": [
       "<Axes: xlabel='BrandName'>"
      ]
     },
     "execution_count": 30,
     "metadata": {},
     "output_type": "execute_result"
    },
    {
     "data": {
      "image/png": "[encoded data removed]",
      "text/plain": [
       "<Figure size 640x480 with 1 Axes>"
      ]
     },
     "metadata": {},
     "output_type": "display_data"
    }
   ],
   "source": [
    "import seaborn as sns\n",
    "sns.set_palette('RdBu')\n",
    "washers.groupby('BrandName')[['Volume']].mean().sort_values(by='Volume',ascending=False).plot.bar()"
   ]
  }
 ],
 "metadata": {
  "kernelspec": {
   "display_name": "Python 3 (ipykernel)",
   "language": "python",
   "name": "python3"
  },
  "language_info": {
   "codemirror_mode": {
    "name": "ipython",
    "version": 3
   },
   "file_extension": ".py",
   "mimetype": "text/x-python",
   "name": "python",
   "nbconvert_exporter": "python",
   "pygments_lexer": "ipython3",
   "version": "3.12.4"
  }
 },
 "nbformat": 4,
 "nbformat_minor": 4
}
